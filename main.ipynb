{
 "cells": [
  {
   "cell_type": "code",
   "execution_count": null,
   "metadata": {},
   "outputs": [],
   "source": [
    "import os\n",
    "import sys\n",
    "\n",
    "if not os.path.exists(\"/content/ShapeFlow-Monitor-Cloud\"):\n",
    "    !git clone https://github.com/EyalMK/ShapeFlow-Monitor-Cloud.git\n",
    "    sys.path.append(os.path.abspath(\"/content/ShapeFlow-Monitor-Cloud/\"))\n",
    "\n",
    "%cd ShapeFlow-Monitor-Cloud\n",
    "!git checkout HW3 --\n",
    "!pip install ."
   ]
  },
  {
   "cell_type": "code",
   "execution_count": null,
   "metadata": {},
   "outputs": [],
   "source": [
    "import getpass\n",
    "from pyngrok import conf\n",
    "from app.app import App\n",
    "from config.constants import RuntimeEnvironments, DB_CONN_URL, runtime_environment\n",
    "\n",
    "if __name__ == '__main__':\n",
    "    # NGROK Tunnel for debugging, if you prefer to view the app on a hosted VPS :)\n",
    "    if runtime_environment in [RuntimeEnvironments.dev.value, RuntimeEnvironments.test.value]:\n",
    "        NGROK_TOKEN = '2jBnTrvBD8DEzmYA1Bxx69uBXHH_84Fgk6CD5LHc9Cos4DdGh'\n",
    "        conf.get_default().auth_token = NGROK_TOKEN\n",
    "    else:\n",
    "        print(\"Enter ngrok auth token:\")\n",
    "        conf.get_default().auth_token = getpass.getpass()\n",
    "\n",
    "    app_instance = App(DB_CONN_URL)\n",
    "    app_instance.run()"
   ]
  }
 ],
 "metadata": {
  "kernelspec": {
   "display_name": "Python 3",
   "language": "python",
   "name": "python3"
  },
  "language_info": {
   "codemirror_mode": {
    "name": "ipython",
    "version": 2
   },
   "file_extension": ".py",
   "mimetype": "text/x-python",
   "name": "python",
   "nbconvert_exporter": "python",
   "pygments_lexer": "ipython2",
   "version": "2.7.6"
  }
 },
 "nbformat": 4,
 "nbformat_minor": 0
}
